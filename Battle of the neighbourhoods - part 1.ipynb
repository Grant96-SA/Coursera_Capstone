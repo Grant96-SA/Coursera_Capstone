{
 "cells": [
  {
   "cell_type": "markdown",
   "metadata": {},
   "source": [
    "<h1> Introduction/Business Problem"
   ]
  },
  {
   "cell_type": "markdown",
   "metadata": {},
   "source": [
    "The investigation that will be undertaken will identify which neighbourhoods in Paris are similar. As an entrepeneur this will be vital too see which areas are similar and which businesses would be more popular investing in. A comparison can, therefore, be made as to which neighbourhoods prefer what kind of business in the city of Paris and what the culture is like within the city for an up and coming entrepreneur in the area."
   ]
  },
  {
   "cell_type": "markdown",
   "metadata": {},
   "source": [
    "<h1> How the data will be utilised"
   ]
  },
  {
   "cell_type": "markdown",
   "metadata": {},
   "source": [
    "Using the foursquare API, the city of Paris will be analysed. Initially, the neighbourhoods within Paris will be identified. Subsequently, the top 5 venues within each neighbourhood will be determined. The neighbourhoods will then be clustered such that 5 clusters can be assessed with respect to the common venues within the area. As an entrepreneur the areas can be discussed as to which businesses are more likely to be invested in."
   ]
  }
 ],
 "metadata": {
  "kernelspec": {
   "display_name": "Python 3",
   "language": "python",
   "name": "python3"
  },
  "language_info": {
   "codemirror_mode": {
    "name": "ipython",
    "version": 3
   },
   "file_extension": ".py",
   "mimetype": "text/x-python",
   "name": "python",
   "nbconvert_exporter": "python",
   "pygments_lexer": "ipython3",
   "version": "3.7.4"
  }
 },
 "nbformat": 4,
 "nbformat_minor": 2
}
